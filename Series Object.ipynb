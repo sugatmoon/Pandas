{
 "cells": [
  {
   "cell_type": "markdown",
   "id": "34255d34",
   "metadata": {},
   "source": [
    "# Single Dimentional ( Series object)"
   ]
  },
  {
   "cell_type": "code",
   "execution_count": 3,
   "id": "174011dc",
   "metadata": {
    "scrolled": true
   },
   "outputs": [
    {
     "data": {
      "text/plain": [
       "0    1\n",
       "1    2\n",
       "2    3\n",
       "3    4\n",
       "4    5\n",
       "5    6\n",
       "6    7\n",
       "7    8\n",
       "8    9\n",
       "dtype: int64"
      ]
     },
     "execution_count": 3,
     "metadata": {},
     "output_type": "execute_result"
    }
   ],
   "source": [
    "import pandas as pd\n",
    "\n",
    "s1 = pd.Series([1,2,3,4,5,6,7,8,9])\n",
    "\n",
    "s1"
   ]
  },
  {
   "cell_type": "code",
   "execution_count": 7,
   "id": "d63890bc",
   "metadata": {},
   "outputs": [
    {
     "data": {
      "text/plain": [
       "a    2\n",
       "b    3\n",
       "c    6\n",
       "d    8\n",
       "e    9\n",
       "f    5\n",
       "g    4\n",
       "i    7\n",
       "j    6\n",
       "k    5\n",
       "l    5\n",
       "dtype: int64"
      ]
     },
     "execution_count": 7,
     "metadata": {},
     "output_type": "execute_result"
    }
   ],
   "source": [
    "s2 = pd.Series([2,3,6,8,9,5,4,7,6,5,5],index = ('a', 'b', 'c', 'd', 'e', 'f', 'g', 'i', 'j','k','l'))\n",
    "\n",
    "\n",
    "s2"
   ]
  },
  {
   "cell_type": "code",
   "execution_count": 10,
   "id": "e9d56bd2",
   "metadata": {},
   "outputs": [
    {
     "data": {
      "text/plain": [
       "(pandas.core.series.Series, pandas.core.series.Series)"
      ]
     },
     "execution_count": 10,
     "metadata": {},
     "output_type": "execute_result"
    }
   ],
   "source": [
    "type(s1),type(s2)"
   ]
  },
  {
   "cell_type": "code",
   "execution_count": 12,
   "id": "bdb7d4f2",
   "metadata": {},
   "outputs": [
    {
     "data": {
      "text/plain": [
       "pandas.core.series.Series"
      ]
     },
     "execution_count": 12,
     "metadata": {},
     "output_type": "execute_result"
    }
   ],
   "source": [
    "type(s1)"
   ]
  },
  {
   "cell_type": "markdown",
   "id": "75715e02",
   "metadata": {},
   "source": [
    "# We can define by using Dictionary with their index "
   ]
  },
  {
   "cell_type": "code",
   "execution_count": 16,
   "id": "ad275934",
   "metadata": {},
   "outputs": [
    {
     "data": {
      "text/plain": [
       "a    56\n",
       "b    89\n",
       "c    62\n",
       "d    36\n",
       "e     1\n",
       "f     8\n",
       "dtype: int64"
      ]
     },
     "execution_count": 16,
     "metadata": {},
     "output_type": "execute_result"
    }
   ],
   "source": [
    "s3 = pd.Series({'a':56 , 'b':89, 'c': 62, 'd':36, 'e':1, 'f':8})\n",
    "\n",
    "\n",
    "s3"
   ]
  },
  {
   "cell_type": "code",
   "execution_count": 20,
   "id": "f4dec6c6",
   "metadata": {},
   "outputs": [
    {
     "data": {
      "text/html": [
       "<div>\n",
       "<style scoped>\n",
       "    .dataframe tbody tr th:only-of-type {\n",
       "        vertical-align: middle;\n",
       "    }\n",
       "\n",
       "    .dataframe tbody tr th {\n",
       "        vertical-align: top;\n",
       "    }\n",
       "\n",
       "    .dataframe thead th {\n",
       "        text-align: right;\n",
       "    }\n",
       "</style>\n",
       "<table border=\"1\" class=\"dataframe\">\n",
       "  <thead>\n",
       "    <tr style=\"text-align: right;\">\n",
       "      <th></th>\n",
       "      <th>Department</th>\n",
       "      <th>Destination State</th>\n",
       "      <th>Purpose of Trip</th>\n",
       "      <th>Trip Start Date</th>\n",
       "      <th>Trip End Date</th>\n",
       "      <th>Status</th>\n",
       "    </tr>\n",
       "  </thead>\n",
       "  <tbody>\n",
       "    <tr>\n",
       "      <th>0</th>\n",
       "      <td>Office of Communications and Media</td>\n",
       "      <td>FL</td>\n",
       "      <td>White-Kutch</td>\n",
       "      <td>6/14/19</td>\n",
       "      <td>6/15/19</td>\n",
       "      <td>Approved</td>\n",
       "    </tr>\n",
       "    <tr>\n",
       "      <th>1</th>\n",
       "      <td>Disability Determination Bureau</td>\n",
       "      <td>OK</td>\n",
       "      <td>Runolfsson, Bogisich and DuBuque</td>\n",
       "      <td>10/1/19</td>\n",
       "      <td>10/1/19</td>\n",
       "      <td>Approved</td>\n",
       "    </tr>\n",
       "    <tr>\n",
       "      <th>2</th>\n",
       "      <td>Division of Disability and Rehabilitative Serv...</td>\n",
       "      <td>OK</td>\n",
       "      <td>Homenick, Waters and Gusikowski</td>\n",
       "      <td>4/3/19</td>\n",
       "      <td>4/6/19</td>\n",
       "      <td>Rejected</td>\n",
       "    </tr>\n",
       "    <tr>\n",
       "      <th>3</th>\n",
       "      <td>Technology</td>\n",
       "      <td>FL</td>\n",
       "      <td>Schoen, Mitchell and Kovacek</td>\n",
       "      <td>3/13/19</td>\n",
       "      <td>3/20/19</td>\n",
       "      <td>Approved</td>\n",
       "    </tr>\n",
       "    <tr>\n",
       "      <th>4</th>\n",
       "      <td>Human Resources</td>\n",
       "      <td>FL</td>\n",
       "      <td>Senger-Schumm</td>\n",
       "      <td>4/27/19</td>\n",
       "      <td>5/5/19</td>\n",
       "      <td>Approved</td>\n",
       "    </tr>\n",
       "    <tr>\n",
       "      <th>...</th>\n",
       "      <td>...</td>\n",
       "      <td>...</td>\n",
       "      <td>...</td>\n",
       "      <td>...</td>\n",
       "      <td>...</td>\n",
       "      <td>...</td>\n",
       "    </tr>\n",
       "    <tr>\n",
       "      <th>295</th>\n",
       "      <td>Division of Finance</td>\n",
       "      <td>GA</td>\n",
       "      <td>Cremin, Batz and Huel</td>\n",
       "      <td>3/30/19</td>\n",
       "      <td>4/5/19</td>\n",
       "      <td>Approved</td>\n",
       "    </tr>\n",
       "    <tr>\n",
       "      <th>296</th>\n",
       "      <td>Contract Management</td>\n",
       "      <td>CA</td>\n",
       "      <td>Cormier, Hayes and Jacobi</td>\n",
       "      <td>6/17/19</td>\n",
       "      <td>6/20/19</td>\n",
       "      <td>Approved</td>\n",
       "    </tr>\n",
       "    <tr>\n",
       "      <th>297</th>\n",
       "      <td>Office of General Counsel</td>\n",
       "      <td>TX</td>\n",
       "      <td>Altenwerth-Kuhlman</td>\n",
       "      <td>12/22/19</td>\n",
       "      <td>12/28/19</td>\n",
       "      <td>Approved</td>\n",
       "    </tr>\n",
       "    <tr>\n",
       "      <th>298</th>\n",
       "      <td>Division of Mental Health and Addiction</td>\n",
       "      <td>OK</td>\n",
       "      <td>Treutel, Tremblay and Swaniawski</td>\n",
       "      <td>3/24/19</td>\n",
       "      <td>3/25/19</td>\n",
       "      <td>Approved</td>\n",
       "    </tr>\n",
       "    <tr>\n",
       "      <th>299</th>\n",
       "      <td>Contract Management</td>\n",
       "      <td>GA</td>\n",
       "      <td>Berge Inc</td>\n",
       "      <td>10/30/19</td>\n",
       "      <td>11/2/19</td>\n",
       "      <td>Approved</td>\n",
       "    </tr>\n",
       "  </tbody>\n",
       "</table>\n",
       "<p>300 rows × 6 columns</p>\n",
       "</div>"
      ],
      "text/plain": [
       "                                            Department Destination State  \\\n",
       "0                   Office of Communications and Media                FL   \n",
       "1                      Disability Determination Bureau                OK   \n",
       "2    Division of Disability and Rehabilitative Serv...                OK   \n",
       "3                                           Technology                FL   \n",
       "4                                      Human Resources                FL   \n",
       "..                                                 ...               ...   \n",
       "295                                Division of Finance                GA   \n",
       "296                                Contract Management                CA   \n",
       "297                          Office of General Counsel                TX   \n",
       "298            Division of Mental Health and Addiction                OK   \n",
       "299                                Contract Management                GA   \n",
       "\n",
       "                      Purpose of Trip Trip Start Date Trip End Date    Status  \n",
       "0                         White-Kutch         6/14/19       6/15/19  Approved  \n",
       "1    Runolfsson, Bogisich and DuBuque         10/1/19       10/1/19  Approved  \n",
       "2     Homenick, Waters and Gusikowski          4/3/19        4/6/19  Rejected  \n",
       "3        Schoen, Mitchell and Kovacek         3/13/19       3/20/19  Approved  \n",
       "4                       Senger-Schumm         4/27/19        5/5/19  Approved  \n",
       "..                                ...             ...           ...       ...  \n",
       "295             Cremin, Batz and Huel         3/30/19        4/5/19  Approved  \n",
       "296         Cormier, Hayes and Jacobi         6/17/19       6/20/19  Approved  \n",
       "297                Altenwerth-Kuhlman        12/22/19      12/28/19  Approved  \n",
       "298  Treutel, Tremblay and Swaniawski         3/24/19       3/25/19  Approved  \n",
       "299                         Berge Inc        10/30/19       11/2/19  Approved  \n",
       "\n",
       "[300 rows x 6 columns]"
      ]
     },
     "execution_count": 20,
     "metadata": {},
     "output_type": "execute_result"
    }
   ],
   "source": [
    "file = pd.read_csv('TravelApprovals.csv')\n",
    "file"
   ]
  }
 ],
 "metadata": {
  "kernelspec": {
   "display_name": "Python 3 (ipykernel)",
   "language": "python",
   "name": "python3"
  },
  "language_info": {
   "codemirror_mode": {
    "name": "ipython",
    "version": 3
   },
   "file_extension": ".py",
   "mimetype": "text/x-python",
   "name": "python",
   "nbconvert_exporter": "python",
   "pygments_lexer": "ipython3",
   "version": "3.11.2"
  }
 },
 "nbformat": 4,
 "nbformat_minor": 5
}
